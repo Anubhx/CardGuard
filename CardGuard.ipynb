{
  "nbformat": 4,
  "nbformat_minor": 0,
  "metadata": {
    "colab": {
      "provenance": []
    },
    "kernelspec": {
      "name": "python3",
      "display_name": "Python 3"
    },
    "language_info": {
      "name": "python"
    }
  },
  "cells": [
    {
      "cell_type": "markdown",
      "source": [
        "# Step 1: Environment Setup and Data Loading\n",
        "1. Set Up Google Colab Environment: If you haven't already, ensure your Google Colab environment is ready for use.\n",
        "\n",
        "2. Import Necessary Libraries:"
      ],
      "metadata": {
        "id": "7sVUr0srA-a1"
      }
    },
    {
      "cell_type": "code",
      "execution_count": 1,
      "metadata": {
        "id": "daMqav_v90vH"
      },
      "outputs": [],
      "source": [
        "import numpy as np\n",
        "import pandas as pd\n",
        "import matplotlib.pyplot as plt\n",
        "import seaborn as sns\n",
        "from matplotlib import gridspec\n",
        "from sklearn.model_selection import train_test_split\n",
        "from sklearn.ensemble import RandomForestClassifier\n",
        "from sklearn.metrics import classification_report, accuracy_score\n",
        "from sklearn.metrics import precision_score, recall_score\n",
        "from sklearn.metrics import f1_score, matthews_corrcoef\n",
        "from sklearn.metrics import confusion_matrix\n",
        "from sklearn.impute import SimpleImputer\n"
      ]
    },
    {
      "cell_type": "markdown",
      "source": [
        "Load the Dataset: Assuming you've mounted your in file of Collab and have the dataset path"
      ],
      "metadata": {
        "id": "m0hFAcYYBKlB"
      }
    },
    {
      "cell_type": "code",
      "source": [
        "data = pd.read_csv(\"/content/sample_data/creditcard.csv\")"
      ],
      "metadata": {
        "id": "6A4p2aRN-UDH"
      },
      "execution_count": 3,
      "outputs": []
    },
    {
      "cell_type": "markdown",
      "source": [
        "# Step 2: Data Preprocessing\n",
        "1. Understanding and Describing the Data:"
      ],
      "metadata": {
        "id": "X7SH-7Bh-ZI7"
      }
    },
    {
      "cell_type": "code",
      "source": [
        "print(data.head())\n",
        "print(data.shape)\n",
        "print(data.describe())\n"
      ],
      "metadata": {
        "colab": {
          "base_uri": "https://localhost:8080/"
        },
        "id": "-QkKGSbl-aRB",
        "outputId": "9ce1e640-3207-478d-abbb-f5f6ff48d123"
      },
      "execution_count": 4,
      "outputs": [
        {
          "output_type": "stream",
          "name": "stdout",
          "text": [
            "   Time        V1        V2        V3        V4        V5        V6        V7  \\\n",
            "0     0 -1.359807 -0.072781  2.536347  1.378155 -0.338321  0.462388  0.239599   \n",
            "1     0  1.191857  0.266151  0.166480  0.448154  0.060018 -0.082361 -0.078803   \n",
            "2     1 -1.358354 -1.340163  1.773209  0.379780 -0.503198  1.800499  0.791461   \n",
            "3     1 -0.966272 -0.185226  1.792993 -0.863291 -0.010309  1.247203  0.237609   \n",
            "4     2 -1.158233  0.877737  1.548718  0.403034 -0.407193  0.095921  0.592941   \n",
            "\n",
            "         V8        V9  ...       V21       V22       V23       V24       V25  \\\n",
            "0  0.098698  0.363787  ... -0.018307  0.277838 -0.110474  0.066928  0.128539   \n",
            "1  0.085102 -0.255425  ... -0.225775 -0.638672  0.101288 -0.339846  0.167170   \n",
            "2  0.247676 -1.514654  ...  0.247998  0.771679  0.909412 -0.689281 -0.327642   \n",
            "3  0.377436 -1.387024  ... -0.108300  0.005274 -0.190321 -1.175575  0.647376   \n",
            "4 -0.270533  0.817739  ... -0.009431  0.798278 -0.137458  0.141267 -0.206010   \n",
            "\n",
            "        V26       V27       V28  Amount  Class  \n",
            "0 -0.189115  0.133558 -0.021053  149.62    0.0  \n",
            "1  0.125895 -0.008983  0.014724    2.69    0.0  \n",
            "2 -0.139097 -0.055353 -0.059752  378.66    0.0  \n",
            "3 -0.221929  0.062723  0.061458  123.50    0.0  \n",
            "4  0.502292  0.219422  0.215153   69.99    0.0  \n",
            "\n",
            "[5 rows x 31 columns]\n",
            "(3973, 31)\n",
            "              Time           V1           V2           V3           V4  \\\n",
            "count  3973.000000  3973.000000  3973.000000  3973.000000  3973.000000   \n",
            "mean   1638.724138    -0.333723     0.308691     0.837062     0.013144   \n",
            "std    1016.577498     1.351976     1.180436     0.981057     1.418751   \n",
            "min       0.000000   -12.168192   -15.732974   -12.389545    -4.657545   \n",
            "25%     750.000000    -1.030747    -0.155734     0.287224    -0.908469   \n",
            "50%    1526.000000    -0.451819     0.409641     0.884503     0.099497   \n",
            "75%    2526.000000     1.070572     0.921588     1.433851     0.982710   \n",
            "max    3624.000000     1.685314     6.118940     4.017561     6.013346   \n",
            "\n",
            "                V5           V6           V7           V8           V9  ...  \\\n",
            "count  3973.000000  3973.000000  3973.000000  3973.000000  3973.000000  ...   \n",
            "mean     -0.029177     0.052836     0.146895    -0.071352     0.055778  ...   \n",
            "std       1.207632     1.286610     1.090769     1.294647     0.919087  ...   \n",
            "min     -32.092129    -7.465603   -11.164794   -23.632502    -3.336805  ...   \n",
            "25%      -0.573740    -0.735876    -0.278697    -0.205430    -0.473894  ...   \n",
            "50%      -0.089809    -0.209577     0.162196     0.028639     0.032286  ...   \n",
            "75%       0.396675     0.449217     0.635055     0.298866     0.622704  ...   \n",
            "max      10.658654    21.393069    34.303177     3.877662     6.450992  ...   \n",
            "\n",
            "               V21          V22          V23          V24          V25  \\\n",
            "count  3973.000000  3973.000000  3972.000000  3972.000000  3972.000000   \n",
            "mean      0.010465    -0.082885    -0.058484     0.029106     0.095278   \n",
            "std       0.855829     0.635482     0.391158     0.603965     0.405989   \n",
            "min     -11.273890    -5.707801    -7.996811    -2.162523    -2.322906   \n",
            "25%      -0.211812    -0.512434    -0.210615    -0.338940    -0.141891   \n",
            "50%      -0.053234    -0.064435    -0.069939     0.100635     0.108219   \n",
            "75%       0.102520     0.345346     0.062502     0.432692     0.361309   \n",
            "max      15.631453     4.393846     4.095021     1.215279     1.727063   \n",
            "\n",
            "               V26          V27          V28       Amount        Class  \n",
            "count  3972.000000  3972.000000  3972.000000  3972.000000  3972.000000  \n",
            "mean     -0.012623     0.044638     0.002639    65.000101     0.000504  \n",
            "std       0.503818     0.352752     0.254136   213.688183     0.022437  \n",
            "min      -1.338556    -5.336289    -2.909294     0.000000     0.000000  \n",
            "25%      -0.339998    -0.041461    -0.020983     2.265000     0.000000  \n",
            "50%      -0.025647     0.033751     0.021264    12.990000     0.000000  \n",
            "75%       0.288406     0.205736     0.087058    54.990000     0.000000  \n",
            "max       3.463246     3.852046     4.157934  7712.430000     1.000000  \n",
            "\n",
            "[8 rows x 31 columns]\n"
          ]
        }
      ]
    },
    {
      "cell_type": "markdown",
      "source": [
        "2.Handling Imbalanced Data:\n",
        "\n",
        "-Calculate the imbalance ratio.\n"
      ],
      "metadata": {
        "id": "mSjoTUzoBfdI"
      }
    },
    {
      "cell_type": "code",
      "source": [
        "fraud = data[data['Class'] == 1]\n",
        "valid = data[data['Class'] == 0]\n",
        "print(f'Fraud Cases: {len(fraud)}')\n",
        "print(f'Valid Transactions: {len(valid)}')\n"
      ],
      "metadata": {
        "colab": {
          "base_uri": "https://localhost:8080/"
        },
        "id": "bGEtlm-O-eaZ",
        "outputId": "b565b348-5246-45b6-fe89-b66b7032bac6"
      },
      "execution_count": 5,
      "outputs": [
        {
          "output_type": "stream",
          "name": "stdout",
          "text": [
            "Fraud Cases: 2\n",
            "Valid Transactions: 3970\n"
          ]
        }
      ]
    },
    {
      "cell_type": "markdown",
      "source": [
        "3.Data Cleaning:\n",
        "\n",
        "Check for and handle missing values. For simplicity, we'll fill NaNs with the median value.\n"
      ],
      "metadata": {
        "id": "hN4kVbMHBzkG"
      }
    },
    {
      "cell_type": "code",
      "source": [
        "imputer = SimpleImputer(strategy='median')\n",
        "data_filled = pd.DataFrame(imputer.fit_transform(data), columns=data.columns)\n"
      ],
      "metadata": {
        "id": "6DYX2pCi-gNf"
      },
      "execution_count": 6,
      "outputs": []
    },
    {
      "cell_type": "markdown",
      "source": [
        "4.Feature Selection and Data Split:\n",
        "\n",
        "Separate features (X) and target (Y), and split the dataset."
      ],
      "metadata": {
        "id": "uhaTfTkvB9ix"
      }
    },
    {
      "cell_type": "code",
      "source": [
        "imputer = SimpleImputer(strategy='median')\n",
        "data_filled = pd.DataFrame(imputer.fit_transform(data), columns=data.columns)\n"
      ],
      "metadata": {
        "id": "3JAHsZ9U-h8L"
      },
      "execution_count": 7,
      "outputs": []
    },
    {
      "cell_type": "code",
      "source": [
        "X = data_filled.drop(['Class'], axis=1)\n",
        "Y = data_filled['Class']\n",
        "xTrain, xTest, yTrain, yTest = train_test_split(X, Y, test_size=0.2, random_state=42)\n"
      ],
      "metadata": {
        "id": "FwKiZjlZ-kNK"
      },
      "execution_count": 8,
      "outputs": []
    },
    {
      "cell_type": "markdown",
      "source": [
        "# Step 3: Model Building and Training\n",
        " 1. Random Forest Model:\n"
      ],
      "metadata": {
        "id": "8IccqMNw-mwm"
      }
    },
    {
      "cell_type": "code",
      "source": [
        "rfc = RandomForestClassifier()\n",
        "rfc.fit(xTrain, yTrain)\n"
      ],
      "metadata": {
        "colab": {
          "base_uri": "https://localhost:8080/",
          "height": 75
        },
        "id": "vk5eH-Q3-qM0",
        "outputId": "3241aeb8-0ad1-4c6d-902d-47160293ef82"
      },
      "execution_count": 9,
      "outputs": [
        {
          "output_type": "execute_result",
          "data": {
            "text/plain": [
              "RandomForestClassifier()"
            ],
            "text/html": [
              "<style>#sk-container-id-1 {color: black;background-color: white;}#sk-container-id-1 pre{padding: 0;}#sk-container-id-1 div.sk-toggleable {background-color: white;}#sk-container-id-1 label.sk-toggleable__label {cursor: pointer;display: block;width: 100%;margin-bottom: 0;padding: 0.3em;box-sizing: border-box;text-align: center;}#sk-container-id-1 label.sk-toggleable__label-arrow:before {content: \"▸\";float: left;margin-right: 0.25em;color: #696969;}#sk-container-id-1 label.sk-toggleable__label-arrow:hover:before {color: black;}#sk-container-id-1 div.sk-estimator:hover label.sk-toggleable__label-arrow:before {color: black;}#sk-container-id-1 div.sk-toggleable__content {max-height: 0;max-width: 0;overflow: hidden;text-align: left;background-color: #f0f8ff;}#sk-container-id-1 div.sk-toggleable__content pre {margin: 0.2em;color: black;border-radius: 0.25em;background-color: #f0f8ff;}#sk-container-id-1 input.sk-toggleable__control:checked~div.sk-toggleable__content {max-height: 200px;max-width: 100%;overflow: auto;}#sk-container-id-1 input.sk-toggleable__control:checked~label.sk-toggleable__label-arrow:before {content: \"▾\";}#sk-container-id-1 div.sk-estimator input.sk-toggleable__control:checked~label.sk-toggleable__label {background-color: #d4ebff;}#sk-container-id-1 div.sk-label input.sk-toggleable__control:checked~label.sk-toggleable__label {background-color: #d4ebff;}#sk-container-id-1 input.sk-hidden--visually {border: 0;clip: rect(1px 1px 1px 1px);clip: rect(1px, 1px, 1px, 1px);height: 1px;margin: -1px;overflow: hidden;padding: 0;position: absolute;width: 1px;}#sk-container-id-1 div.sk-estimator {font-family: monospace;background-color: #f0f8ff;border: 1px dotted black;border-radius: 0.25em;box-sizing: border-box;margin-bottom: 0.5em;}#sk-container-id-1 div.sk-estimator:hover {background-color: #d4ebff;}#sk-container-id-1 div.sk-parallel-item::after {content: \"\";width: 100%;border-bottom: 1px solid gray;flex-grow: 1;}#sk-container-id-1 div.sk-label:hover label.sk-toggleable__label {background-color: #d4ebff;}#sk-container-id-1 div.sk-serial::before {content: \"\";position: absolute;border-left: 1px solid gray;box-sizing: border-box;top: 0;bottom: 0;left: 50%;z-index: 0;}#sk-container-id-1 div.sk-serial {display: flex;flex-direction: column;align-items: center;background-color: white;padding-right: 0.2em;padding-left: 0.2em;position: relative;}#sk-container-id-1 div.sk-item {position: relative;z-index: 1;}#sk-container-id-1 div.sk-parallel {display: flex;align-items: stretch;justify-content: center;background-color: white;position: relative;}#sk-container-id-1 div.sk-item::before, #sk-container-id-1 div.sk-parallel-item::before {content: \"\";position: absolute;border-left: 1px solid gray;box-sizing: border-box;top: 0;bottom: 0;left: 50%;z-index: -1;}#sk-container-id-1 div.sk-parallel-item {display: flex;flex-direction: column;z-index: 1;position: relative;background-color: white;}#sk-container-id-1 div.sk-parallel-item:first-child::after {align-self: flex-end;width: 50%;}#sk-container-id-1 div.sk-parallel-item:last-child::after {align-self: flex-start;width: 50%;}#sk-container-id-1 div.sk-parallel-item:only-child::after {width: 0;}#sk-container-id-1 div.sk-dashed-wrapped {border: 1px dashed gray;margin: 0 0.4em 0.5em 0.4em;box-sizing: border-box;padding-bottom: 0.4em;background-color: white;}#sk-container-id-1 div.sk-label label {font-family: monospace;font-weight: bold;display: inline-block;line-height: 1.2em;}#sk-container-id-1 div.sk-label-container {text-align: center;}#sk-container-id-1 div.sk-container {/* jupyter's `normalize.less` sets `[hidden] { display: none; }` but bootstrap.min.css set `[hidden] { display: none !important; }` so we also need the `!important` here to be able to override the default hidden behavior on the sphinx rendered scikit-learn.org. See: https://github.com/scikit-learn/scikit-learn/issues/21755 */display: inline-block !important;position: relative;}#sk-container-id-1 div.sk-text-repr-fallback {display: none;}</style><div id=\"sk-container-id-1\" class=\"sk-top-container\"><div class=\"sk-text-repr-fallback\"><pre>RandomForestClassifier()</pre><b>In a Jupyter environment, please rerun this cell to show the HTML representation or trust the notebook. <br />On GitHub, the HTML representation is unable to render, please try loading this page with nbviewer.org.</b></div><div class=\"sk-container\" hidden><div class=\"sk-item\"><div class=\"sk-estimator sk-toggleable\"><input class=\"sk-toggleable__control sk-hidden--visually\" id=\"sk-estimator-id-1\" type=\"checkbox\" checked><label for=\"sk-estimator-id-1\" class=\"sk-toggleable__label sk-toggleable__label-arrow\">RandomForestClassifier</label><div class=\"sk-toggleable__content\"><pre>RandomForestClassifier()</pre></div></div></div></div></div>"
            ]
          },
          "metadata": {},
          "execution_count": 9
        }
      ]
    },
    {
      "cell_type": "markdown",
      "source": [
        "# Step 4: Model Evaluation\n",
        "  1. Predictions and Evaluating Metrics:\n",
        "\n"
      ],
      "metadata": {
        "id": "A1BZ6IHeCXbr"
      }
    },
    {
      "cell_type": "code",
      "source": [
        "yPred = rfc.predict(xTest)\n",
        "print(f\"Accuracy: {accuracy_score(yTest, yPred)}\")\n",
        "print(f\"Precision: {precision_score(yTest, yPred)}\")\n",
        "print(f\"Recall: {recall_score(yTest, yPred)}\")\n",
        "print(f\"F1-Score: {f1_score(yTest, yPred)}\")\n",
        "print(f\"Matthews Correlation Coefficient: {matthews_corrcoef(yTest, yPred)}\")\n"
      ],
      "metadata": {
        "colab": {
          "base_uri": "https://localhost:8080/"
        },
        "id": "_hRa2VVn-uEV",
        "outputId": "7b2b94f2-f949-49e8-9a6d-0d52124f4d0c"
      },
      "execution_count": 10,
      "outputs": [
        {
          "output_type": "stream",
          "name": "stdout",
          "text": [
            "Accuracy: 1.0\n",
            "Precision: 0.0\n",
            "Recall: 0.0\n",
            "F1-Score: 0.0\n",
            "Matthews Correlation Coefficient: 0.0\n"
          ]
        },
        {
          "output_type": "stream",
          "name": "stderr",
          "text": [
            "/usr/local/lib/python3.10/dist-packages/sklearn/metrics/_classification.py:1344: UndefinedMetricWarning: Precision is ill-defined and being set to 0.0 due to no predicted samples. Use `zero_division` parameter to control this behavior.\n",
            "  _warn_prf(average, modifier, msg_start, len(result))\n",
            "/usr/local/lib/python3.10/dist-packages/sklearn/metrics/_classification.py:1344: UndefinedMetricWarning: Recall is ill-defined and being set to 0.0 due to no true samples. Use `zero_division` parameter to control this behavior.\n",
            "  _warn_prf(average, modifier, msg_start, len(result))\n",
            "/usr/local/lib/python3.10/dist-packages/sklearn/metrics/_classification.py:1609: UndefinedMetricWarning: F-score is ill-defined and being set to 0.0 due to no true nor predicted samples. Use `zero_division` parameter to control this behavior.\n",
            "  _warn_prf(average, \"true nor predicted\", \"F-score is\", len(true_sum))\n"
          ]
        }
      ]
    },
    {
      "cell_type": "markdown",
      "source": [
        "  2.Confusion Matrix Visualization:"
      ],
      "metadata": {
        "id": "01XbxkTvCjq2"
      }
    },
    {
      "cell_type": "code",
      "source": [
        "conf_matrix = confusion_matrix(yTest, yPred)\n",
        "sns.heatmap(conf_matrix, annot=True, fmt=\"d\", xticklabels=['Normal', 'Fraud'], yticklabels=['Normal', 'Fraud'])\n",
        "plt.ylabel('True Label')\n",
        "plt.xlabel('Predicted Label')\n",
        "plt.show()\n"
      ],
      "metadata": {
        "colab": {
          "base_uri": "https://localhost:8080/",
          "height": 449
        },
        "id": "S1t1qJn2-w3i",
        "outputId": "50403c13-4e53-44f7-c0e4-421e0d584d6d"
      },
      "execution_count": 11,
      "outputs": [
        {
          "output_type": "display_data",
          "data": {
            "text/plain": [
              "<Figure size 640x480 with 2 Axes>"
            ],
            "image/png": "[encoded data removed]"
          },
          "metadata": {}
        }
      ]
    },
    {
      "cell_type": "code",
      "source": [
        "# Correlation matrix\n",
        "corrmat = data.corr()\n",
        "fig = plt.figure(figsize = (12, 9))\n",
        "sns.heatmap(corrmat, vmax = .8, square = True)\n",
        "plt.show()"
      ],
      "metadata": {
        "colab": {
          "base_uri": "https://localhost:8080/",
          "height": 799
        },
        "id": "hpX75DJU-wyx",
        "outputId": "eb163f02-e200-4189-ab7f-174997db3edf"
      },
      "execution_count": 12,
      "outputs": [
        {
          "output_type": "display_data",
          "data": {
            "text/plain": [
              "<Figure size 1200x900 with 2 Axes>"
            ],
            "image/png": "[encoded data removed]"
          },
          "metadata": {}
        }
      ]
    },
    {
      "cell_type": "markdown",
      "source": [
        "# Step 5: Reanalyze and Refine\n",
        "Reanalyze: Review the model's performance metrics. If the performance is not satisfactory, consider hyperparameter tuning, trying different models, or further preprocessing the data.\n",
        "\n",
        "Training Strategy: Depending on the model's performance, consider strategies like oversampling the minority class, undersampling the majority class, or employing more sophisticated techniques like SMOTE for balancing the dataset.\n",
        "\n",
        "Model Comparison: If necessary, compare the Random Forest model with other algorithms like Gradient Boosting, Logistic Regression, or Neural Networks to find the best performing model for your specific dataset."
      ],
      "metadata": {
        "id": "hq6I6_5iCw_L"
      }
    },
    {
      "cell_type": "code",
      "source": [
        "from imblearn.over_sampling import SMOTE\n",
        "# Initialize SMOTE\n",
        "smote = SMOTE(random_state=42, k_neighbors=min([5, len(yTrain[yTrain == 1]) - 1]))\n",
        "\n",
        "# Balance the dataset\n",
        "xTrain_balanced, yTrain_balanced = smote.fit_resample(xTrain, yTrain)\n",
        "# Training RandomForest on the balanced dataset\n",
        "rfc.fit(xTrain_balanced, yTrain_balanced)\n",
        "\n",
        "# Predictions\n",
        "yPred_balanced = rfc.predict(xTest)"
      ],
      "metadata": {
        "id": "6mH73Ywu_fML"
      },
      "execution_count": 19,
      "outputs": []
    },
    {
      "cell_type": "markdown",
      "source": [],
      "metadata": {
        "id": "kTLATjP3A8-1"
      }
    },
    {
      "cell_type": "code",
      "source": [
        "# Check the number of samples in the minority class\n",
        "minority_class_count = len(yTrain[yTrain == 1])\n",
        "print(f\"Minority class sample count: {minority_class_count}\")\n"
      ],
      "metadata": {
        "colab": {
          "base_uri": "https://localhost:8080/"
        },
        "id": "O554zVqTAa4O",
        "outputId": "67b772f2-9991-4c7b-b1e2-8a6eb5e03d61"
      },
      "execution_count": 21,
      "outputs": [
        {
          "output_type": "stream",
          "name": "stdout",
          "text": [
            "Minority class sample count: 2\n"
          ]
        }
      ]
    },
    {
      "cell_type": "code",
      "source": [
        "from sklearn.ensemble import GradientBoostingClassifier\n",
        "from sklearn.linear_model import LogisticRegression\n",
        "\n",
        "# Initialize models\n",
        "gb = GradientBoostingClassifier()\n",
        "lr = LogisticRegression(max_iter=1000)\n",
        "\n",
        "# Train models\n",
        "gb.fit(xTrain_balanced, yTrain_balanced)\n",
        "lr.fit(xTrain_balanced, yTrain_balanced)\n",
        "\n",
        "# Predictions\n",
        "yPred_gb = gb.predict(xTest)\n",
        "yPred_lr = lr.predict(xTest)\n",
        "\n",
        "# Evaluation\n",
        "def evaluate_model(y_test, y_pred):\n",
        "    print(f\"Accuracy: {accuracy_score(y_test, y_pred)}\")\n",
        "    print(f\"Precision: {precision_score(y_test, y_pred)}\")\n",
        "    print(f\"Recall: {recall_score(y_test, y_pred)}\")\n",
        "    print(f\"F1-Score: {f1_score(y_test, y_pred)}\")\n",
        "\n",
        "print(\"RandomForest:\")\n",
        "evaluate_model(yTest, yPred_balanced)\n",
        "\n",
        "print(\"\\nGradientBoosting:\")\n",
        "evaluate_model(yTest, yPred_gb)\n",
        "\n",
        "print(\"\\nLogisticRegression:\")\n",
        "evaluate_model(yTest, yPred_lr)\n"
      ],
      "metadata": {
        "colab": {
          "base_uri": "https://localhost:8080/"
        },
        "id": "HA8Fat6F_7nj",
        "outputId": "1fc8d4ad-715a-4271-f998-4be93a0809cf"
      },
      "execution_count": 20,
      "outputs": [
        {
          "output_type": "stream",
          "name": "stdout",
          "text": [
            "RandomForest:\n",
            "Accuracy: 1.0\n",
            "Precision: 0.0\n",
            "Recall: 0.0\n",
            "F1-Score: 0.0\n",
            "\n",
            "GradientBoosting:\n",
            "Accuracy: 1.0\n",
            "Precision: 0.0\n",
            "Recall: 0.0\n",
            "F1-Score: 0.0\n",
            "\n",
            "LogisticRegression:\n",
            "Accuracy: 0.9987421383647799\n",
            "Precision: 0.0\n",
            "Recall: 0.0\n",
            "F1-Score: 0.0\n"
          ]
        },
        {
          "output_type": "stream",
          "name": "stderr",
          "text": [
            "/usr/local/lib/python3.10/dist-packages/sklearn/linear_model/_logistic.py:458: ConvergenceWarning: lbfgs failed to converge (status=1):\n",
            "STOP: TOTAL NO. of ITERATIONS REACHED LIMIT.\n",
            "\n",
            "Increase the number of iterations (max_iter) or scale the data as shown in:\n",
            "    https://scikit-learn.org/stable/modules/preprocessing.html\n",
            "Please also refer to the documentation for alternative solver options:\n",
            "    https://scikit-learn.org/stable/modules/linear_model.html#logistic-regression\n",
            "  n_iter_i = _check_optimize_result(\n",
            "/usr/local/lib/python3.10/dist-packages/sklearn/metrics/_classification.py:1344: UndefinedMetricWarning: Precision is ill-defined and being set to 0.0 due to no predicted samples. Use `zero_division` parameter to control this behavior.\n",
            "  _warn_prf(average, modifier, msg_start, len(result))\n",
            "/usr/local/lib/python3.10/dist-packages/sklearn/metrics/_classification.py:1344: UndefinedMetricWarning: Recall is ill-defined and being set to 0.0 due to no true samples. Use `zero_division` parameter to control this behavior.\n",
            "  _warn_prf(average, modifier, msg_start, len(result))\n",
            "/usr/local/lib/python3.10/dist-packages/sklearn/metrics/_classification.py:1609: UndefinedMetricWarning: F-score is ill-defined and being set to 0.0 due to no true nor predicted samples. Use `zero_division` parameter to control this behavior.\n",
            "  _warn_prf(average, \"true nor predicted\", \"F-score is\", len(true_sum))\n",
            "/usr/local/lib/python3.10/dist-packages/sklearn/metrics/_classification.py:1344: UndefinedMetricWarning: Precision is ill-defined and being set to 0.0 due to no predicted samples. Use `zero_division` parameter to control this behavior.\n",
            "  _warn_prf(average, modifier, msg_start, len(result))\n",
            "/usr/local/lib/python3.10/dist-packages/sklearn/metrics/_classification.py:1344: UndefinedMetricWarning: Recall is ill-defined and being set to 0.0 due to no true samples. Use `zero_division` parameter to control this behavior.\n",
            "  _warn_prf(average, modifier, msg_start, len(result))\n",
            "/usr/local/lib/python3.10/dist-packages/sklearn/metrics/_classification.py:1609: UndefinedMetricWarning: F-score is ill-defined and being set to 0.0 due to no true nor predicted samples. Use `zero_division` parameter to control this behavior.\n",
            "  _warn_prf(average, \"true nor predicted\", \"F-score is\", len(true_sum))\n",
            "/usr/local/lib/python3.10/dist-packages/sklearn/metrics/_classification.py:1344: UndefinedMetricWarning: Recall is ill-defined and being set to 0.0 due to no true samples. Use `zero_division` parameter to control this behavior.\n",
            "  _warn_prf(average, modifier, msg_start, len(result))\n"
          ]
        }
      ]
    },
    {
      "cell_type": "markdown",
      "source": [
        "Hyperparameter Tuning: The param_grid in the GridSearchCV example is just a starting point. Depending on computational resources and time, you might want to expand or narrow down the search.\n",
        "\n",
        "SMOTE: While SMOTE can help balance the dataset, it's essential to only apply it to the training data to avoid information leakage into the test set.\n",
        "\n",
        "Model Evaluation: The evaluation function evaluate_model gives a quick comparison across different metrics. Depending on your specific requirements (e.g., reducing false positives), you might prioritize some metrics over others.\n",
        "\n",
        "Final Model Choice: The choice of the best model can depend on the specific performance metric you're optimizing for (e.g., recall, precision, F1-score). It's also essential to consider the model's interpretability and the computational cost of training and inference."
      ],
      "metadata": {
        "id": "YklgX9acAQSi"
      }
    }
  ]
}